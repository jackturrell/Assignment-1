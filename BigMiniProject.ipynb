{
 "cells": [
  {
   "cell_type": "markdown",
   "id": "890f1e88-9cf5-4813-bba8-953fe40bf305",
   "metadata": {},
   "source": [
    "# Calculating the first reccurence relation"
   ]
  },
  {
   "cell_type": "code",
   "execution_count": 19,
   "id": "bb1b41df-1cf9-4b47-8749-adfadcdfb2ca",
   "metadata": {},
   "outputs": [
    {
     "name": "stdin",
     "output_type": "stream",
     "text": [
      "Enter the value of N:  3\n",
      "Enter the number of iterations (n):  10\n"
     ]
    },
    {
     "name": "stdout",
     "output_type": "stream",
     "text": [
      "C values for n = [1, 2, 3, 4, 5, 6, 7, 8, 9, 10] : [166.66666666666666, 222.2222222222222, 240.74074074074073, 246.9135802469136, 248.97119341563788, 249.6570644718793, 249.8856881572931, 249.96189605243103, 249.98729868414367, 249.99576622804787]\n"
     ]
    }
   ],
   "source": [
    "def recurrence_relation(N, n):\n",
    "    C = [500/N]\n",
    "\n",
    "    for i in range(2, n + 1):\n",
    "        C_n = ((N-2) * C[-1] + 500) / N\n",
    "        C.append(C_n)\n",
    "\n",
    "    return C\n",
    "\n",
    "def main():\n",
    "    N = float(input(\"Enter the value of N: \"))\n",
    "    n = int(input(\"Enter the number of iterations (n): \"))\n",
    "\n",
    "    C_values = recurrence_relation(N, n)\n",
    "    print(\"C values for n =\", list(range(1, n + 1)), \":\", C_values)\n",
    "\n",
    "if __name__ == \"__main__\":\n",
    "    main()"
   ]
  },
  {
   "cell_type": "markdown",
   "id": "ce4fe201-d51a-487a-9ea3-20bcb1c5d319",
   "metadata": {},
   "source": [
    "# Plotting the first recurrence relation"
   ]
  },
  {
   "cell_type": "code",
   "execution_count": 49,
   "id": "3a515158-b058-44eb-90ab-371a006eedf0",
   "metadata": {},
   "outputs": [
    {
     "name": "stdin",
     "output_type": "stream",
     "text": [
      "Enter the value of N:  3\n",
      "Enter the number of iterations (n):  10\n"
     ]
    },
    {
     "name": "stdout",
     "output_type": "stream",
     "text": [
      "Recurrence Relation Values for n : [166.66666666666666, 222.2222222222222, 240.74074074074073, 246.9135802469136, 248.97119341563788, 249.6570644718793, 249.8856881572931, 249.96189605243103, 249.98729868414367, 249.99576622804787]\n"
     ]
    },
    {
     "data": {
      "image/png": "[encoded data removed]",
      "text/plain": [
       "<Figure size 432x288 with 1 Axes>"
      ]
     },
     "metadata": {
      "needs_background": "light"
     },
     "output_type": "display_data"
    }
   ],
   "source": [
    "import matplotlib.pyplot as plt\n",
    "\n",
    "def recurrence_relation(N, n):\n",
    "    C = [500/N]\n",
    "\n",
    "    for i in range(2, n + 1):\n",
    "        C_n = ((N-2) * C[-1] + 500) / N\n",
    "        C.append(C_n)\n",
    "\n",
    "    return C\n",
    "\n",
    "def main():\n",
    "    N = float(input(\"Enter the value of N: \"))\n",
    "    n = int(input(\"Enter the number of iterations (n): \"))\n",
    "\n",
    "    C_values = recurrence_relation(N, n)\n",
    "    print(\"Recurrence Relation Values for n :\", C_values)\n",
    "\n",
    "    plt.plot(range(1, n + 1), C_values, marker='x')\n",
    "    plt.xlabel('Number of Iterations')\n",
    "    plt.ylabel('Recurrence Relation Values')\n",
    "    plt.grid(True)\n",
    "    plt.show()\n",
    "    \n",
    "if __name__ == \"__main__\":\n",
    "    main()"
   ]
  },
  {
   "cell_type": "markdown",
   "id": "715bbf3c-ad02-4c5b-9434-f29523b7b1fa",
   "metadata": {},
   "source": [
    "# Using a slider to plot the first recurrence relation"
   ]
  },
  {
   "cell_type": "code",
   "execution_count": 20,
   "id": "bb353336-bf27-4edd-83ba-b24eb020c0b6",
   "metadata": {},
   "outputs": [
    {
     "data": {
      "application/vnd.jupyter.widget-view+json": {
       "model_id": "08c6b18b76fe46d89a1104e4dfef7d45",
       "version_major": 2,
       "version_minor": 0
      },
      "text/plain": [
       "interactive(children=(FloatSlider(value=10.0, description='N:', min=3.0, step=1.0), IntText(value=10, descript…"
      ]
     },
     "metadata": {},
     "output_type": "display_data"
    }
   ],
   "source": [
    "import matplotlib.pyplot as plt\n",
    "import ipywidgets as widgets\n",
    "from IPython.display import display\n",
    "\n",
    "def recurrence_relation(N, n):\n",
    "    C = [500/N]\n",
    "\n",
    "    for i in range(2, n + 1):\n",
    "        C_n = ((N-2) * C[-1] + 500) / N\n",
    "        C.append(C_n)\n",
    "\n",
    "    return C\n",
    "\n",
    "def plot_graph(N, n):\n",
    "    C_values = recurrence_relation(N, n)\n",
    "    \n",
    "    plt.plot(range(1, n + 1), C_values, marker='x')\n",
    "    plt.xlabel('Number of Iterations')\n",
    "    plt.ylabel('Recurrence Relation Values')\n",
    "    plt.grid(True)\n",
    "    plt.show()\n",
    "\n",
    "def main():\n",
    "    N_slider = widgets.FloatSlider(value=10, min=3, max=100, step=1, description='N:')\n",
    "    n_text = widgets.IntText(value=10, description='n:')\n",
    "    widgets.interact(plot_graph, N=N_slider, n=n_text)\n",
    "\n",
    "if __name__ == \"__main__\":\n",
    "    main()"
   ]
  },
  {
   "cell_type": "markdown",
   "id": "21f6b0ed-1d1c-40cf-8ee7-04ae1bba6017",
   "metadata": {},
   "source": [
    "# Calculating the second recurrence relation"
   ]
  },
  {
   "cell_type": "code",
   "execution_count": 21,
   "id": "23933475-2bff-480a-80ac-9c14d468cee1",
   "metadata": {},
   "outputs": [
    {
     "name": "stdin",
     "output_type": "stream",
     "text": [
      "Enter the number of iterations (n):  3\n"
     ]
    },
    {
     "name": "stdout",
     "output_type": "stream",
     "text": [
      "C values for n = [1, 2, 3] : [1.3333333333333333, 2.6595555555555555, 3.9787045925925923]\n"
     ]
    }
   ],
   "source": [
    "def main():\n",
    "    N = 375\n",
    "    n = int(input(\"Enter the number of iterations (n): \"))\n",
    "\n",
    "    C_values = recurrence_relation(N, n)\n",
    "    print(\"C values for n =\", list(range(1, n + 1)), \":\", C_values)\n",
    "\n",
    "if __name__ == \"__main__\":\n",
    "    main()"
   ]
  },
  {
   "cell_type": "markdown",
   "id": "2eaa2d2e-ed83-46e0-857c-f26454e2af88",
   "metadata": {},
   "source": [
    "# Simulating the problem with strategy"
   ]
  },
  {
   "cell_type": "code",
   "execution_count": null,
   "id": "c6e07243-0ce5-4171-88aa-1a63a329bb4b",
   "metadata": {},
   "outputs": [
    {
     "name": "stdin",
     "output_type": "stream",
     "text": [
      "Enter the number of glasses:  3\n",
      "Enter the amount of water to pour into glass 1:  100\n",
      "Enter the amount of water to pour into glass 2:  200\n"
     ]
    }
   ],
   "source": [
    "def distribute_water(glasses, water_distribution):\n",
    "    for i, water in enumerate(water_distribution):\n",
    "        glasses[i] += water\n",
    "\n",
    "def empty_glasses(glasses, empty1, empty2):\n",
    "    if empty1 > 0:\n",
    "        glasses[empty1 - 1] = 0\n",
    "    if empty2 > 0:\n",
    "        glasses[empty2 - 1] = 0\n",
    "\n",
    "def main():\n",
    "    while True:\n",
    "        N = int(input(\"Enter the number of glasses: \"))\n",
    "        glasses = [0] * N\n",
    "        water_distribution = [0] * N\n",
    "\n",
    "        while True:\n",
    "            for i in range(1, N + 1):\n",
    "                while True:\n",
    "                    water = int(input(f\"Enter the amount of water to pour into glass {i}: \"))\n",
    "                    if water < 0:\n",
    "                        print(\"Invalid input. Please enter a non-negative value.\")\n",
    "                    else:\n",
    "                        water_distribution[i - 1] += water\n",
    "                        break\n",
    "\n",
    "            distribute_water(glasses, water_distribution)\n",
    "            print(\"\\nWater distributed:\", glasses)\n",
    "\n",
    "            while True:\n",
    "                empty1 = int(input(\"Enter the index of the first glass to empty (1 to N, 0 to skip): \"))\n",
    "                if empty1 < 0 or empty1 > N:\n",
    "                    print(f\"Invalid input. Please enter a value between 1 and {N}.\")\n",
    "                else:\n",
    "                    break\n",
    "\n",
    "            if empty1 != 0:\n",
    "                while True:\n",
    "                    empty2 = int(input(\"Enter the index of the second glass to empty (1 to N, 0 to skip): \"))\n",
    "                    if empty2 < 0 or empty2 > N or empty2 == empty1:\n",
    "                        print(f\"Invalid input. Please enter a value between 1 and {N} that is different from the first glass.\")\n",
    "                    else:\n",
    "                        break\n",
    "\n",
    "                empty_glasses(glasses, empty1, empty2)\n",
    "                print(\"Glasses emptied:\", glasses)\n",
    "            else:\n",
    "                print(\"Glasses not emptied.\")\n",
    "\n",
    "            play_again = input(\"Do you want to play again? (yes/no): \")\n",
    "            if play_again.lower() == \"no\":\n",
    "                print(\"Goodbye!\")\n",
    "                return\n",
    "\n",
    "            water_distribution = [0] * N\n",
    "\n",
    "if __name__ == \"__main__\":\n",
    "    main()"
   ]
  },
  {
   "cell_type": "markdown",
   "id": "d6006e05-a171-4b38-86c4-2e09318a2231",
   "metadata": {},
   "source": [
    "# Simulating the problem randomly"
   ]
  },
  {
   "cell_type": "code",
   "execution_count": 54,
   "id": "25b60d81-f15e-4aa5-aeca-6f7d7e30f26f",
   "metadata": {},
   "outputs": [
    {
     "name": "stdin",
     "output_type": "stream",
     "text": [
      "Enter the number of cups:  3\n"
     ]
    },
    {
     "name": "stdout",
     "output_type": "stream",
     "text": [
      "\n",
      "Water distributed: [9, 26, 465]\n",
      "Cups emptied: [0, 26, 0]\n",
      "\n",
      "Water distributed: [357, 50, 119]\n",
      "Cups emptied: [357, 0, 0]\n",
      "\n",
      "Water distributed: [472, 86, 299]\n",
      "Cups emptied: [0, 86, 0]\n",
      "\n",
      "Water distributed: [139, 130, 317]\n",
      "Cups emptied: [0, 130, 0]\n",
      "\n",
      "Water distributed: [56, 339, 235]\n",
      "Cups emptied: [56, 0, 0]\n",
      "\n",
      "Water distributed: [431, 32, 93]\n",
      "Cups emptied: [431, 0, 0]\n",
      "\n",
      "Water distributed: [617, 101, 213]\n",
      "Cups emptied: [0, 101, 0]\n",
      "\n",
      "Water distributed: [106, 189, 306]\n",
      "Cups emptied: [0, 189, 0]\n",
      "\n",
      "Water distributed: [101, 243, 345]\n",
      "Cups emptied: [0, 243, 0]\n",
      "\n",
      "Water distributed: [206, 291, 246]\n",
      "Cups emptied: [0, 291, 0]\n",
      "All iterations completed.\n"
     ]
    }
   ],
   "source": [
    "import random\n",
    "\n",
    "def distribute_water(glasses, water_distribution):\n",
    "    for i, water in enumerate(water_distribution):\n",
    "        glasses[i] += water\n",
    "\n",
    "def empty_glasses(glasses, empty1, empty2):\n",
    "    if empty1 > 0:\n",
    "        glasses[empty1 - 1] = 0\n",
    "    if empty2 > 0:\n",
    "        glasses[empty2 - 1] = 0\n",
    "\n",
    "def main():\n",
    "    iterations = 10\n",
    "    while iterations > 0:\n",
    "        N = int(input(\"Enter the number of glasses: \"))\n",
    "        glasses = [0] * N\n",
    "\n",
    "        while True:\n",
    "            while True:\n",
    "                water_distribution = [random.randint(0, 500) for _ in range(N - 1)]\n",
    "                remaining_water = 500 - sum(water_distribution)\n",
    "                if 0 <= remaining_water <= 500:\n",
    "                    water_distribution.append(remaining_water)\n",
    "                    break\n",
    "            random.shuffle(water_distribution)\n",
    "            distribute_water(glasses, water_distribution)\n",
    "            print(\"\\nWater distributed:\", glasses)\n",
    "\n",
    "            empty_index = random.randint(0, N - 1)\n",
    "            empty1 = empty_index\n",
    "            if empty_index == 0:\n",
    "                empty2 = N - 1\n",
    "            elif empty_index == N - 1:\n",
    "                empty2 = 0\n",
    "            else:\n",
    "                empty2 = empty_index + 1\n",
    "\n",
    "            empty_glasses(glasses, empty1 + 1, empty2 + 1)\n",
    "            print(\"Glasses emptied:\", glasses)\n",
    "\n",
    "            iterations -= 1\n",
    "\n",
    "            if iterations == 0:\n",
    "                print(\"All iterations completed.\")\n",
    "                break\n",
    "\n",
    "if __name__ == \"__main__\":\n",
    "    main()"
   ]
  },
  {
   "cell_type": "markdown",
   "id": "0d7349b5-669a-4221-a523-b7f02baba05b",
   "metadata": {},
   "source": [
    "# Simulating the problem randomly until a glass overflows (or 50 iterations is reached)"
   ]
  },
  {
   "cell_type": "code",
   "execution_count": 24,
   "id": "4b9fb4e2-b38e-4e87-aaaa-89ee1bbbc79f",
   "metadata": {},
   "outputs": [
    {
     "name": "stdin",
     "output_type": "stream",
     "text": [
      "Enter the number of glasses:  3\n"
     ]
    },
    {
     "name": "stdout",
     "output_type": "stream",
     "text": [
      "\n",
      "Water distributed: [365, 108, 27]\n",
      "Glasses emptied: [0, 108, 0]\n",
      "\n",
      "Water distributed: [320, 195, 93]\n",
      "Glasses emptied: [320, 0, 0]\n",
      "\n",
      "Water distributed: [320, 89, 411]\n",
      "Glasses emptied: [320, 0, 0]\n",
      "\n",
      "Water distributed: [464, 185, 171]\n",
      "Glasses emptied: [0, 185, 0]\n",
      "\n",
      "Water distributed: [77, 396, 212]\n",
      "Glasses emptied: [0, 396, 0]\n",
      "\n",
      "Water distributed: [65, 481, 350]\n",
      "Glasses emptied: [0, 481, 0]\n",
      "\n",
      "Water distributed: [450, 491, 40]\n",
      "Glasses emptied: [450, 0, 0]\n",
      "\n",
      "Water distributed: [806, 100, 44]\n",
      "Glasses emptied: [0, 100, 0]\n",
      "\n",
      "Water distributed: [268, 214, 118]\n",
      "Glasses emptied: [0, 214, 0]\n",
      "\n",
      "Water distributed: [97, 222, 395]\n",
      "Glasses emptied: [0, 222, 0]\n",
      "\n",
      "Water distributed: [113, 367, 242]\n",
      "Glasses emptied: [0, 367, 0]\n",
      "\n",
      "Water distributed: [155, 503, 209]\n",
      "Glasses emptied: [0, 503, 0]\n",
      "\n",
      "Water distributed: [103, 713, 187]\n",
      "Glasses emptied: [0, 713, 0]\n",
      "\n",
      "Water distributed: [67, 728, 418]\n",
      "Glasses emptied: [0, 728, 0]\n",
      "\n",
      "Water distributed: [156, 962, 110]\n",
      "Glasses emptied: [156, 0, 0]\n",
      "\n",
      "Water distributed: [179, 41, 436]\n",
      "Glasses emptied: [0, 41, 0]\n",
      "\n",
      "Water distributed: [58, 170, 313]\n",
      "Glasses emptied: [0, 170, 0]\n",
      "\n",
      "Water distributed: [80, 347, 243]\n",
      "Glasses emptied: [0, 347, 0]\n",
      "\n",
      "Water distributed: [48, 574, 225]\n",
      "Glasses emptied: [0, 574, 0]\n",
      "\n",
      "Water distributed: [202, 612, 260]\n",
      "Glasses emptied: [202, 0, 0]\n",
      "\n",
      "Water distributed: [404, 176, 122]\n",
      "Glasses emptied: [0, 176, 0]\n",
      "\n",
      "Water distributed: [67, 436, 173]\n",
      "Glasses emptied: [0, 436, 0]\n",
      "\n",
      "Water distributed: [264, 534, 138]\n",
      "Glasses emptied: [264, 0, 0]\n",
      "\n",
      "Water distributed: [351, 407, 6]\n",
      "Glasses emptied: [0, 407, 0]\n",
      "\n",
      "Water distributed: [284, 418, 205]\n",
      "Glasses emptied: [284, 0, 0]\n",
      "\n",
      "Water distributed: [439, 342, 3]\n",
      "Glasses emptied: [439, 0, 0]\n",
      "\n",
      "Water distributed: [883, 31, 25]\n",
      "Glasses emptied: [883, 0, 0]\n",
      "\n",
      "Water distributed: [1185, 145, 53]\n",
      "Condition met or maximum iterations reached.\n"
     ]
    }
   ],
   "source": [
    "import random\n",
    "\n",
    "def distribute_water(glasses, water_distribution):\n",
    "    for i, water in enumerate(water_distribution):\n",
    "        glasses[i] += water\n",
    "\n",
    "def empty_glasses(glasses, empty1, empty2):\n",
    "    if empty1 > 0:\n",
    "        glasses[empty1 - 1] = 0\n",
    "    if empty2 > 0:\n",
    "        glasses[empty2 - 1] = 0\n",
    "\n",
    "def main():\n",
    "    iterations = 0\n",
    "    while True:\n",
    "        N = int(input(\"Enter the number of glasses: \"))\n",
    "        glasses = [0] * N\n",
    "        over_1000_flag = False\n",
    "\n",
    "        while iterations < 50:\n",
    "            while True:\n",
    "                water_distribution = [random.randint(0, 500) for _ in range(N - 1)]\n",
    "                remaining_water = 500 - sum(water_distribution)\n",
    "                if 0 <= remaining_water <= 500:\n",
    "                    water_distribution.append(remaining_water)\n",
    "                    break\n",
    "            random.shuffle(water_distribution)\n",
    "            distribute_water(glasses, water_distribution)\n",
    "            print(\"\\nWater distributed:\", glasses)\n",
    "\n",
    "            if any(amount > 1000 for amount in glasses):\n",
    "                over_1000_flag = True\n",
    "                break\n",
    "\n",
    "            empty_index = random.randint(0, N - 1)\n",
    "            empty1 = empty_index\n",
    "            if empty_index == 0:\n",
    "                empty2 = N - 1\n",
    "            elif empty_index == N - 1:\n",
    "                empty2 = 0\n",
    "            else:\n",
    "                empty2 = empty_index + 1\n",
    "\n",
    "            empty_glasses(glasses, empty1 + 1, empty2 + 1)\n",
    "            print(\"Glasses emptied:\", glasses)\n",
    "\n",
    "            iterations += 1\n",
    "\n",
    "        if over_1000_flag or iterations >= 50:\n",
    "            print(\"Condition met or maximum iterations reached.\")\n",
    "            break\n",
    "\n",
    "if __name__ == \"__main__\":\n",
    "    main()"
   ]
  },
  {
   "cell_type": "markdown",
   "id": "6b55fa44-cff1-4204-ab53-949fc4aa695b",
   "metadata": {},
   "source": [
    "# Plotting the problem randomly until a glass overflows (or 50 iterations is reached)"
   ]
  },
  {
   "cell_type": "code",
   "execution_count": 25,
   "id": "b9b58c24-487a-441d-9ffe-9da6570d8be0",
   "metadata": {},
   "outputs": [
    {
     "name": "stdin",
     "output_type": "stream",
     "text": [
      "Enter the number of glasses:  3\n"
     ]
    },
    {
     "data": {
      "image/png": "[encoded data removed]",
      "text/plain": [
       "<Figure size 432x288 with 1 Axes>"
      ]
     },
     "metadata": {
      "needs_background": "light"
     },
     "output_type": "display_data"
    }
   ],
   "source": [
    "import random\n",
    "import matplotlib.pyplot as plt\n",
    "\n",
    "def distribute_water(glasses, water_distribution):\n",
    "    for i, water in enumerate(water_distribution):\n",
    "        glasses[i] += water\n",
    "\n",
    "def empty_glasses(glasses, empty1, empty2):\n",
    "    if empty1 > 0:\n",
    "        glasses[empty1 - 1] = 0\n",
    "    if empty2 > 0:\n",
    "        glasses[empty2 - 1] = 0\n",
    "\n",
    "def main():\n",
    "    iterations_per_N = 10\n",
    "    N_values = []\n",
    "    iterations_values = []\n",
    "\n",
    "    N = int(input(\"Enter the number of glasses: \"))\n",
    "    for i in range(1, iterations_per_N + 1):\n",
    "        N_values.append(i)\n",
    "        iterations = 0\n",
    "        glasses = [0] * N\n",
    "        over_1000_flag = False\n",
    "\n",
    "        while iterations < 50:\n",
    "            while True:\n",
    "                water_distribution = [random.randint(0, 500) for _ in range(N - 1)]\n",
    "                remaining_water = 500 - sum(water_distribution)\n",
    "                if 0 <= remaining_water <= 500:\n",
    "                    water_distribution.append(remaining_water)\n",
    "                    break\n",
    "            random.shuffle(water_distribution)\n",
    "            distribute_water(glasses, water_distribution)\n",
    "\n",
    "            if any(amount > 1000 for amount in glasses):\n",
    "                over_1000_flag = True\n",
    "                break\n",
    "\n",
    "            empty_index = random.randint(0, N - 1)\n",
    "            empty1 = empty_index\n",
    "            if empty_index == 0:\n",
    "                empty2 = N - 1\n",
    "            elif empty_index == N - 1:\n",
    "                empty2 = 0\n",
    "            else:\n",
    "                empty2 = empty_index + 1\n",
    "\n",
    "            empty_glasses(glasses, empty1 + 1, empty2 + 1)\n",
    "\n",
    "            iterations += 1\n",
    "\n",
    "        iterations_values.append(iterations)\n",
    "\n",
    "    plt.plot(N_values, iterations_values, marker='o')\n",
    "    plt.xlabel('Number of games')\n",
    "    plt.ylabel('Number of rounds until the glass overflows')\n",
    "    plt.xticks(N_values, range(1, iterations_per_N + 1))\n",
    "    plt.grid(True)\n",
    "    plt.show()\n",
    "\n",
    "if __name__ == \"__main__\":\n",
    "    main()"
   ]
  },
  {
   "cell_type": "markdown",
   "id": "a649731f-ba0d-40f7-b4db-bf73dde77277",
   "metadata": {},
   "source": [
    "# Plotting the problem randomly until a glass overflows over a large number of games"
   ]
  },
  {
   "cell_type": "code",
   "execution_count": 9,
   "id": "37991930-aeb4-4938-a3ba-f4bf06ffa5d5",
   "metadata": {},
   "outputs": [
    {
     "name": "stdin",
     "output_type": "stream",
     "text": [
      "Enter the number of glasses:  3\n"
     ]
    },
    {
     "data": {
      "image/png": "[encoded data removed]",
      "text/plain": [
       "<Figure size 432x288 with 1 Axes>"
      ]
     },
     "metadata": {
      "needs_background": "light"
     },
     "output_type": "display_data"
    }
   ],
   "source": [
    "import random\n",
    "import matplotlib.pyplot as plt\n",
    "import numpy as np\n",
    "\n",
    "def distribute_water(glasses, water_distribution):\n",
    "    for i, water in enumerate(water_distribution):\n",
    "        glasses[i] += water\n",
    "\n",
    "def empty_glasses(glasses, empty1, empty2):\n",
    "    if empty1 > 0:\n",
    "        glasses[empty1 - 1] = 0\n",
    "    if empty2 > 0:\n",
    "        glasses[empty2 - 1] = 0\n",
    "\n",
    "def main():\n",
    "    iterations_per_N = 1000\n",
    "    N_values = []\n",
    "    iterations_values = []\n",
    "\n",
    "    N = int(input(\"Enter the number of glasses: \"))\n",
    "    for i in range(1, iterations_per_N + 1):\n",
    "        N_values.append(i)\n",
    "        iterations = 0\n",
    "        glasses = [0] * N\n",
    "        over_1000_flag = False\n",
    "\n",
    "        while iterations < 500:\n",
    "            while True:\n",
    "                water_distribution = [random.randint(0, 500) for _ in range(N - 1)]\n",
    "                remaining_water = 500 - sum(water_distribution)\n",
    "                if 0 <= remaining_water <= 500:\n",
    "                    water_distribution.append(remaining_water)\n",
    "                    break\n",
    "            random.shuffle(water_distribution)\n",
    "            distribute_water(glasses, water_distribution)\n",
    "\n",
    "            if any(amount > 1000 for amount in glasses):\n",
    "                over_1000_flag = True\n",
    "                break\n",
    "\n",
    "            empty_index = random.randint(0, N - 1)\n",
    "            empty1 = empty_index\n",
    "            if empty_index == 0:\n",
    "                empty2 = N - 1\n",
    "            elif empty_index == N - 1:\n",
    "                empty2 = 0\n",
    "            else:\n",
    "                empty2 = empty_index + 1\n",
    "\n",
    "            empty_glasses(glasses, empty1 + 1, empty2 + 1)\n",
    "\n",
    "            iterations += 1\n",
    "\n",
    "        iterations_values.append(iterations)\n",
    "\n",
    "    avg_iterations = np.mean(iterations_values)\n",
    "\n",
    "    plt.plot(N_values, iterations_values, marker='o', markersize=1, linestyle= ' ')\n",
    "    plt.axhline(y=avg_iterations, color='r', linestyle='--', label=f'Average: {avg_iterations:.2f}')\n",
    "    plt.xlabel('Number of games')\n",
    "    plt.ylabel('Number of rounds until the glass overflows')\n",
    "    plt.xticks(range(0, iterations_per_N + 1, 100))\n",
    "    plt.legend()\n",
    "    plt.show()\n",
    "\n",
    "if __name__ == \"__main__\":\n",
    "    main()"
   ]
  },
  {
   "cell_type": "markdown",
   "id": "eb0c3268-08b5-4143-9857-dddb0dbdef37",
   "metadata": {},
   "source": [
    "# Extension: Plotting the problem with three adjacent glasses being emptied randomly until a glass overflows over a large number of games\n"
   ]
  },
  {
   "cell_type": "code",
   "execution_count": 27,
   "id": "06dcfe6b-63c9-42a5-b645-74f309b9b8f4",
   "metadata": {},
   "outputs": [
    {
     "name": "stdin",
     "output_type": "stream",
     "text": [
      "Enter the number of glasses:  6\n"
     ]
    },
    {
     "data": {
      "image/png": "[encoded data removed]",
      "text/plain": [
       "<Figure size 432x288 with 1 Axes>"
      ]
     },
     "metadata": {
      "needs_background": "light"
     },
     "output_type": "display_data"
    }
   ],
   "source": [
    "import random\n",
    "import matplotlib.pyplot as plt\n",
    "import numpy as np\n",
    "\n",
    "def distribute_water(glasses, water_distribution):\n",
    "    for i, water in enumerate(water_distribution):\n",
    "        glasses[i] += water\n",
    "\n",
    "def empty_glasses(glasses, empty1, empty2, empty3):\n",
    "    if empty1 > 0:\n",
    "        glasses[empty1 - 1] = 0\n",
    "    if empty2 > 0:\n",
    "        glasses[empty2 - 1] = 0\n",
    "    if empty3 > 0:\n",
    "        glasses[empty3 - 1] = 0\n",
    "\n",
    "def main():\n",
    "    iterations_per_N = 1000\n",
    "    N_values = []\n",
    "    iterations_values = []\n",
    "\n",
    "    N = int(input(\"Enter the number of glasses: \"))\n",
    "    for i in range(1, iterations_per_N + 1):\n",
    "        N_values.append(i)\n",
    "        iterations = 0\n",
    "        glasses = [0] * N\n",
    "        over_1000_flag = False\n",
    "\n",
    "        while iterations < 5000:\n",
    "            while True:\n",
    "                water_distribution = [random.randint(0, 500) for _ in range(N - 1)]\n",
    "                remaining_water = 500 - sum(water_distribution)\n",
    "                if 0 <= remaining_water <= 500:\n",
    "                    water_distribution.append(remaining_water)\n",
    "                    break\n",
    "            random.shuffle(water_distribution)\n",
    "            distribute_water(glasses, water_distribution)\n",
    "\n",
    "            if any(amount > 1000 for amount in glasses):\n",
    "                over_1000_flag = True\n",
    "                break\n",
    "\n",
    "            empty_index = random.randint(0, N - 1)\n",
    "            if empty_index == 0:\n",
    "                empty1, empty2, empty3 = N - 1, 0, 1\n",
    "            elif empty_index == N - 1:\n",
    "                empty1, empty2, empty3 = N - 2, N - 1, 0\n",
    "            else:\n",
    "                empty1, empty2, empty3 = empty_index - 1, empty_index, empty_index + 1\n",
    "\n",
    "            empty_glasses(glasses, empty1 + 1, empty2 + 1, empty3 + 1)\n",
    "\n",
    "            iterations += 1\n",
    "\n",
    "        iterations_values.append(iterations)\n",
    "\n",
    "    avg_iterations = np.mean(iterations_values)\n",
    "\n",
    "    plt.plot(N_values, iterations_values, marker='o', markersize=1, linestyle= ' ')\n",
    "    plt.axhline(y=avg_iterations, color='r', linestyle='--', label=f'Average: {avg_iterations:.2f}')\n",
    "    plt.xlabel('Number of games')\n",
    "    plt.ylabel('Number of rounds until the glass overflows')\n",
    "    plt.xticks(range(0, iterations_per_N + 1, 100))\n",
    "    plt.legend()\n",
    "    plt.show()\n",
    "\n",
    "if __name__ == \"__main__\":\n",
    "    main()"
   ]
  },
  {
   "cell_type": "markdown",
   "id": "67ee844c-7e19-4ced-8d20-810ddd31cec9",
   "metadata": {},
   "source": [
    "# Extension: Plotting the problem with non-adjacent glasses being emptied randomly until a glass overflows over a large number of games\n",
    "\n"
   ]
  },
  {
   "cell_type": "code",
   "execution_count": 11,
   "id": "0d60aee3-04f7-4b27-8fc2-954e9769488f",
   "metadata": {},
   "outputs": [
    {
     "name": "stdin",
     "output_type": "stream",
     "text": [
      "Enter the number of glasses:  5\n"
     ]
    },
    {
     "data": {
      "image/png": "[encoded data removed]",
      "text/plain": [
       "<Figure size 432x288 with 1 Axes>"
      ]
     },
     "metadata": {
      "needs_background": "light"
     },
     "output_type": "display_data"
    }
   ],
   "source": [
    "import random\n",
    "import matplotlib.pyplot as plt\n",
    "import numpy as np\n",
    "\n",
    "def distribute_water(glasses, water_distribution):\n",
    "    for i, water in enumerate(water_distribution):\n",
    "        glasses[i] += water\n",
    "\n",
    "def empty_glasses(glasses, empty1, empty2):\n",
    "    if empty1 > 0:\n",
    "        glasses[empty1 - 1] = 0\n",
    "    if empty2 > 0:\n",
    "        glasses[empty2 - 1] = 0\n",
    "\n",
    "def main():\n",
    "    iterations_per_N = 1000\n",
    "    N_values = []\n",
    "    iterations_values = []\n",
    "\n",
    "    N = int(input(\"Enter the number of glasses: \"))\n",
    "    for i in range(1, iterations_per_N + 1):\n",
    "        N_values.append(i)\n",
    "        iterations = 0\n",
    "        glasses = [0] * N\n",
    "        over_1000_flag = False\n",
    "\n",
    "        while iterations < 500:\n",
    "            while True:\n",
    "                water_distribution = [random.randint(0, 500) for _ in range(N - 1)]\n",
    "                remaining_water = 500 - sum(water_distribution)\n",
    "                if 0 <= remaining_water <= 500:\n",
    "                    water_distribution.append(remaining_water)\n",
    "                    break\n",
    "            random.shuffle(water_distribution)\n",
    "            distribute_water(glasses, water_distribution)\n",
    "\n",
    "            if any(amount > 1000 for amount in glasses):\n",
    "                over_1000_flag = True\n",
    "                break\n",
    "\n",
    "            empty_indices = random.sample(range(N), 2)  # Select two distinct random indices\n",
    "            empty1, empty2 = empty_indices\n",
    "\n",
    "            empty_glasses(glasses, empty1 + 1, empty2 + 1)\n",
    "\n",
    "            iterations += 1\n",
    "\n",
    "        iterations_values.append(iterations)\n",
    "\n",
    "    avg_iterations = np.mean(iterations_values)\n",
    "\n",
    "    plt.plot(N_values, iterations_values, marker='o', markersize=1, linestyle= ' ')\n",
    "    plt.axhline(y=avg_iterations, color='r', linestyle='--', label=f'Average: {avg_iterations:.2f}')\n",
    "    plt.xlabel('Number of games')\n",
    "    plt.ylabel('Number of rounds until the glass overflows')\n",
    "    plt.xticks(range(0, iterations_per_N + 1, 100))\n",
    "    plt.legend()\n",
    "    plt.show()\n",
    "\n",
    "if __name__ == \"__main__\":\n",
    "    main()"
   ]
  },
  {
   "cell_type": "markdown",
   "id": "48707ddc-7a1f-4a3f-a82f-9ae6f7c130ea",
   "metadata": {},
   "source": [
    "# Extension: Plotting the problem with player A having 400 instead of 500 randomly until a glass overflows over a large number of games\n",
    "\n"
   ]
  },
  {
   "cell_type": "code",
   "execution_count": 18,
   "id": "a62e5e32-966b-41b5-9d03-bb1adaf52ff7",
   "metadata": {},
   "outputs": [
    {
     "name": "stdin",
     "output_type": "stream",
     "text": [
      "Enter the number of glasses:  5\n"
     ]
    },
    {
     "data": {
      "image/png": "[encoded data removed]",
      "text/plain": [
       "<Figure size 432x288 with 1 Axes>"
      ]
     },
     "metadata": {
      "needs_background": "light"
     },
     "output_type": "display_data"
    }
   ],
   "source": [
    "import random\n",
    "import matplotlib.pyplot as plt\n",
    "import numpy as np\n",
    "\n",
    "def distribute_water(glasses, water_distribution):\n",
    "    for i, water in enumerate(water_distribution):\n",
    "        glasses[i] += water\n",
    "\n",
    "def empty_glasses(glasses, empty1, empty2):\n",
    "    if empty1 > 0:\n",
    "        glasses[empty1 - 1] = 0\n",
    "    if empty2 > 0:\n",
    "        glasses[empty2 - 1] = 0\n",
    "\n",
    "def main():\n",
    "    iterations_per_N = 1000\n",
    "    N_values = []\n",
    "    iterations_values = []\n",
    "\n",
    "    N = int(input(\"Enter the number of glasses: \"))\n",
    "    for i in range(1, iterations_per_N + 1):\n",
    "        N_values.append(i)\n",
    "        iterations = 0\n",
    "        glasses = [0] * N\n",
    "        over_1000_flag = False\n",
    "\n",
    "        while iterations < 500:\n",
    "            while True:\n",
    "                water_distribution = [random.randint(0, 400) for _ in range(N - 1)]  # Change 500 to 400\n",
    "                remaining_water = 400 - sum(water_distribution)  # Change 500 to 400\n",
    "                if 0 <= remaining_water <= 400:  # Change 500 to 400\n",
    "                    water_distribution.append(remaining_water)\n",
    "                    break\n",
    "            random.shuffle(water_distribution)\n",
    "            distribute_water(glasses, water_distribution)\n",
    "\n",
    "            if any(amount > 1000 for amount in glasses):\n",
    "                over_1000_flag = True\n",
    "                break\n",
    "\n",
    "            empty_index = random.randint(0, N - 1)\n",
    "            empty1 = empty_index\n",
    "            if empty_index == 0:\n",
    "                empty2 = N - 1\n",
    "            elif empty_index == N - 1:\n",
    "                empty2 = 0\n",
    "            else:\n",
    "                empty2 = empty_index + 1\n",
    "\n",
    "            empty_glasses(glasses, empty1 + 1, empty2 + 1)\n",
    "\n",
    "            iterations += 1\n",
    "\n",
    "        iterations_values.append(iterations)\n",
    "\n",
    "    avg_iterations = np.mean(iterations_values)\n",
    "\n",
    "    plt.plot(N_values, iterations_values, marker='o', markersize=1, linestyle= ' ')\n",
    "    plt.axhline(y=avg_iterations, color='r', linestyle='--', label=f'Average: {avg_iterations:.2f}')\n",
    "    plt.xlabel('Number of games')\n",
    "    plt.ylabel('Number of rounds until the glass overflows')\n",
    "    plt.xticks(range(0, iterations_per_N + 1, 100))\n",
    "    plt.legend()\n",
    "    plt.show()\n",
    "\n",
    "if __name__ == \"__main__\":\n",
    "    main()"
   ]
  }
 ],
 "metadata": {
  "kernelspec": {
   "display_name": "Python 3 (ipykernel)",
   "language": "python",
   "name": "python3"
  },
  "language_info": {
   "codemirror_mode": {
    "name": "ipython",
    "version": 3
   },
   "file_extension": ".py",
   "mimetype": "text/x-python",
   "name": "python",
   "nbconvert_exporter": "python",
   "pygments_lexer": "ipython3",
   "version": "3.9.7"
  }
 },
 "nbformat": 4,
 "nbformat_minor": 5
}
