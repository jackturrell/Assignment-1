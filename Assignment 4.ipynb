{
 "cells": [
  {
   "cell_type": "markdown",
   "id": "f1c3047b-5e26-42b4-9220-677a1e535797",
   "metadata": {},
   "source": [
    "# Simulating the problem"
   ]
  },
  {
   "cell_type": "code",
   "execution_count": 158,
   "id": "0915d8cd-9a35-45ff-8948-963d063db724",
   "metadata": {},
   "outputs": [
    {
     "name": "stdout",
     "output_type": "stream",
     "text": [
      "Walk 1 : [1, 3, 4, 5, 7, 8, 10, 11, 13, 15, 17, 19, 20, 22, 24, 26, 27, 28, 29, 30, 32, 34, 35, 36]\n"
     ]
    }
   ],
   "source": [
    "import random\n",
    "\n",
    "def throw_coin():\n",
    "    return random.randint(1, 2)\n",
    "\n",
    "def simulate_walk(steps):\n",
    "    numbers_landed_on = []\n",
    "    position = 1\n",
    "    for _ in range(steps):\n",
    "        step = throw_coin()\n",
    "        numbers_landed_on.append(position)\n",
    "        position += step\n",
    "    return numbers_landed_on\n",
    "\n",
    "def repeat_simulation(total_walks, total_steps):\n",
    "    for _ in range(total_walks):\n",
    "        numbers_landed_on = simulate_walk(total_steps)\n",
    "        print(\"Walk\", _+1, \":\", numbers_landed_on)\n",
    "\n",
    "total_walks = 1\n",
    "total_steps = 24\n",
    "\n",
    "repeat_simulation(total_walks, total_steps)"
   ]
  },
  {
   "cell_type": "markdown",
   "id": "e72344e6-98bf-4cbd-b97c-0baa30b628a8",
   "metadata": {},
   "source": [
    "# Simulating the question highlighting the walk green if it includes the desired number, and red if not"
   ]
  },
  {
   "cell_type": "code",
   "execution_count": 124,
   "id": "98478a82-5431-4609-a43c-c01be76a673a",
   "metadata": {},
   "outputs": [
    {
     "name": "stdout",
     "output_type": "stream",
     "text": [
      "Walk 1: \u001b[92m[1, 3, 4, 6, 8, 10, 11, 13, 15, 16, 18, 20, 22, 23, 24, 25, 27, 28, 30, 32, 34, 36, 38, 40, 41]\u001b[0m\n",
      "Walk 2: \u001b[92m[1, 2, 3, 5, 6, 8, 10, 11, 12, 13, 14, 15, 16, 17, 18, 19, 21, 23, 25, 27, 29, 31, 33, 35, 37]\u001b[0m\n",
      "Walk 3: \u001b[92m[1, 3, 5, 7, 9, 11, 13, 15, 17, 18, 20, 22, 24, 25, 27, 29, 31, 33, 35, 37, 39, 41, 43, 45, 46]\u001b[0m\n",
      "Walk 4: \u001b[91m[1, 2, 3, 4, 6, 8, 9, 11, 12, 14, 15, 16, 18, 20, 22, 24, 26, 28, 29, 30, 32, 33, 35, 36, 37]\u001b[0m\n",
      "Walk 5: \u001b[92m[1, 3, 5, 7, 8, 9, 11, 13, 15, 17, 18, 19, 21, 23, 25, 26, 28, 29, 30, 32, 33, 34, 36, 37, 38]\u001b[0m\n"
     ]
    }
   ],
   "source": [
    "import random\n",
    "\n",
    "def throw_coin():\n",
    "    return random.randint(1, 2)\n",
    "\n",
    "def simulate_walk(steps):\n",
    "    numbers_landed_on = []\n",
    "    position = 1\n",
    "    for _ in range(steps):\n",
    "        step = throw_coin()\n",
    "        numbers_landed_on.append(position)\n",
    "        position += step\n",
    "    return numbers_landed_on\n",
    "\n",
    "def color_walk(numbers, target_number):\n",
    "    if target_number in numbers:\n",
    "        return '\\033[92m'\n",
    "    else:\n",
    "        return '\\033[91m'\n",
    "\n",
    "def repeat_simulation(total_walks, total_steps, target_number):\n",
    "    for i in range(total_walks):\n",
    "        numbers_landed_on = simulate_walk(total_steps)\n",
    "        color = color_walk(numbers_landed_on, target_number)\n",
    "        print(f\"Walk {i+1}: {color}{numbers_landed_on}\\033[0m\")\n",
    "\n",
    "total_walks = 5\n",
    "total_steps = 25\n",
    "target_number = 25\n",
    "\n",
    "repeat_simulation(total_walks, total_steps, target_number)"
   ]
  },
  {
   "cell_type": "markdown",
   "id": "afc89826-de54-4cb2-aea3-ac12dc98f037",
   "metadata": {},
   "source": [
    "# Simulating the problem 1000000 times and counting the number of green and red walks"
   ]
  },
  {
   "cell_type": "code",
   "execution_count": 125,
   "id": "289503fe-5fe4-4670-a41b-9513dafb71cf",
   "metadata": {},
   "outputs": [
    {
     "name": "stdout",
     "output_type": "stream",
     "text": [
      "\n",
      "Total Green Walks: 666977\n",
      "Total Red Walks: 333023\n"
     ]
    }
   ],
   "source": [
    "import random\n",
    "\n",
    "def throw_coin():\n",
    "    return random.randint(1, 2)\n",
    "\n",
    "def simulate_walk(steps):\n",
    "    numbers_landed_on = []\n",
    "    position = 1\n",
    "    for _ in range(steps):\n",
    "        step = throw_coin()\n",
    "        numbers_landed_on.append(position)\n",
    "        position += step\n",
    "    return numbers_landed_on\n",
    "\n",
    "def color_walk(numbers, target_number):\n",
    "    if target_number in numbers:\n",
    "        return '\\033[92m'\n",
    "    else:\n",
    "        return '\\033[91m'\n",
    "\n",
    "def repeat_simulation(total_walks, total_steps, target_number):\n",
    "    green_walks = 0\n",
    "    red_walks = 0\n",
    "    for i in range(total_walks):\n",
    "        numbers_landed_on = simulate_walk(total_steps)\n",
    "        color = color_walk(numbers_landed_on, target_number)\n",
    "        #print(f\"Walk {i+1}: {color}{numbers_landed_on}\\033[0m\")\n",
    "        if target_number in numbers_landed_on:\n",
    "            green_walks += 1\n",
    "        else:\n",
    "            red_walks += 1\n",
    "    return green_walks, red_walks\n",
    "\n",
    "total_walks = 1000000\n",
    "total_steps = 25\n",
    "target_number = 25\n",
    "\n",
    "green_count, red_count = repeat_simulation(total_walks, total_steps, target_number)\n",
    "print(f\"\\nTotal Green Walks: {green_count}\")\n",
    "print(f\"Total Red Walks: {red_count}\")"
   ]
  },
  {
   "cell_type": "markdown",
   "id": "47a21575-3457-4660-867c-a4e0f515716a",
   "metadata": {},
   "source": [
    "# Plotting the probabilities of the recurrence relation against the number of coin flips"
   ]
  },
  {
   "cell_type": "code",
   "execution_count": 80,
   "id": "676fe4ba-6bec-4349-9002-3db912bdc46d",
   "metadata": {},
   "outputs": [
    {
     "data": {
      "image/png": "[encoded data removed]",
      "text/plain": [
       "<Figure size 432x288 with 1 Axes>"
      ]
     },
     "metadata": {
      "needs_background": "light"
     },
     "output_type": "display_data"
    }
   ],
   "source": [
    "import matplotlib.pyplot as plt\n",
    "\n",
    "def recurrence_relation(n):\n",
    "    if n == 1:\n",
    "        return 1\n",
    "    else:\n",
    "        return 1 - recurrence_relation(n - 1) / 2\n",
    "\n",
    "n_values = list(range(1, 26))\n",
    "P_values = [recurrence_relation(n) for n in n_values]\n",
    "\n",
    "plt.plot(n_values, P_values, marker='o', linestyle='-')\n",
    "plt.xlabel('n')\n",
    "plt.ylabel('P(n)')\n",
    "plt.title('P(n) = 1 - P(n-1)/2')\n",
    "plt.grid(True)\n",
    "plt.show()"
   ]
  },
  {
   "cell_type": "markdown",
   "id": "153c47f8-0837-42aa-9ebb-8286b50b3a13",
   "metadata": {},
   "source": [
    "# Obtaining the values from the graph"
   ]
  },
  {
   "cell_type": "code",
   "execution_count": 81,
   "id": "6fde9b20-2a02-4223-b561-de8c3a71fef8",
   "metadata": {},
   "outputs": [
    {
     "data": {
      "text/plain": [
       "[1,\n",
       " 0.5,\n",
       " 0.75,\n",
       " 0.625,\n",
       " 0.6875,\n",
       " 0.65625,\n",
       " 0.671875,\n",
       " 0.6640625,\n",
       " 0.66796875,\n",
       " 0.666015625,\n",
       " 0.6669921875,\n",
       " 0.66650390625,\n",
       " 0.666748046875,\n",
       " 0.6666259765625,\n",
       " 0.66668701171875,\n",
       " 0.666656494140625,\n",
       " 0.6666717529296875,\n",
       " 0.6666641235351562,\n",
       " 0.6666679382324219,\n",
       " 0.6666660308837891,\n",
       " 0.6666669845581055,\n",
       " 0.6666665077209473,\n",
       " 0.6666667461395264,\n",
       " 0.6666666269302368,\n",
       " 0.6666666865348816]"
      ]
     },
     "execution_count": 81,
     "metadata": {},
     "output_type": "execute_result"
    }
   ],
   "source": [
    "P_values"
   ]
  },
  {
   "cell_type": "markdown",
   "id": "cebbe9b3-9c42-455b-8ab6-074328c045af",
   "metadata": {},
   "source": [
    "# Plotting the probabilities of the recurrence relation in blue and the outputs of our simulation of the problem over 1000000 times"
   ]
  },
  {
   "cell_type": "code",
   "execution_count": 117,
   "id": "4ac4fec1-70dd-42db-8a29-195b74f2c32f",
   "metadata": {},
   "outputs": [
    {
     "data": {
      "image/png": "[encoded data removed]",
      "text/plain": [
       "<Figure size 432x288 with 1 Axes>"
      ]
     },
     "metadata": {
      "needs_background": "light"
     },
     "output_type": "display_data"
    }
   ],
   "source": [
    "import matplotlib.pyplot as plt\n",
    "\n",
    "def recurrence_relation(n):\n",
    "    if n == 1:\n",
    "        return 1\n",
    "    else:\n",
    "        return 1 - recurrence_relation(n - 1) / 2\n",
    "\n",
    "n_values = list(range(1, 26))\n",
    "P_values = [recurrence_relation(n) for n in n_values]\n",
    "\n",
    "user_points = [(1, 1), (2, 0.500667), (3, 0.749782), (4, 0.625126), (5, 0.688069), (6, 0.656185), (7, 0.671322), (8, 0.663838), (9, 0.668852), (10, 0.666854), (11, 0.666507), (12, 0.666583), (13, 0.667090), (14, 0.666091), (15, 0.666791), (16, 0.666844), (17, 0.666469), (18, 0.666561), (19, 0.667240), (20, 0.666439), (21, 0.665870), (22, 0.666946), (23, 0.667369), (24, 0.666516), (25, 0.666517)]\n",
    "\n",
    "plt.plot(n_values, P_values, marker='o', linestyle='-', label='Recurrence Relation')\n",
    "for point in user_points:\n",
    "    plt.plot(point[0], point[1], marker='x', color='red')\n",
    "plt.xlabel('n')\n",
    "plt.ylabel('P(n)')\n",
    "plt.title('P(n) = 1 - P(n-1)/2')\n",
    "plt.legend()\n",
    "plt.grid(True)\n",
    "plt.show()"
   ]
  },
  {
   "cell_type": "markdown",
   "id": "8bb39164-b80f-46dd-a0eb-ae6604e4f03a",
   "metadata": {},
   "source": [
    "# Obtaining the values from the graph"
   ]
  },
  {
   "cell_type": "code",
   "execution_count": 118,
   "id": "dad84f9c-1d17-48b9-8d6f-62c724181cbf",
   "metadata": {},
   "outputs": [
    {
     "data": {
      "text/plain": [
       "[1,\n",
       " 0.5,\n",
       " 0.75,\n",
       " 0.625,\n",
       " 0.6875,\n",
       " 0.65625,\n",
       " 0.671875,\n",
       " 0.6640625,\n",
       " 0.66796875,\n",
       " 0.666015625,\n",
       " 0.6669921875,\n",
       " 0.66650390625,\n",
       " 0.666748046875,\n",
       " 0.6666259765625,\n",
       " 0.66668701171875,\n",
       " 0.666656494140625,\n",
       " 0.6666717529296875,\n",
       " 0.6666641235351562,\n",
       " 0.6666679382324219,\n",
       " 0.6666660308837891,\n",
       " 0.6666669845581055,\n",
       " 0.6666665077209473,\n",
       " 0.6666667461395264,\n",
       " 0.6666666269302368,\n",
       " 0.6666666865348816]"
      ]
     },
     "execution_count": 118,
     "metadata": {},
     "output_type": "execute_result"
    }
   ],
   "source": [
    "P_values"
   ]
  },
  {
   "cell_type": "markdown",
   "id": "2c5d0b57-af7e-4fc1-819f-993bf9c05ce7",
   "metadata": {},
   "source": [
    "# Extending the problem"
   ]
  },
  {
   "cell_type": "code",
   "execution_count": 154,
   "id": "112bded6-7661-4baa-abe8-a6173355c556",
   "metadata": {},
   "outputs": [
    {
     "data": {
      "image/png": "[encoded data removed]",
      "text/plain": [
       "<Figure size 432x288 with 1 Axes>"
      ]
     },
     "metadata": {
      "needs_background": "light"
     },
     "output_type": "display_data"
    },
    {
     "data": {
      "text/plain": [
       "[0.6666666666666666,\n",
       " 0.6666666666666666,\n",
       " 0.6666666666666666,\n",
       " 0.6666666666666666,\n",
       " 0.6666666666666666,\n",
       " 0.6666666666666666,\n",
       " 0.6666666666666666,\n",
       " 0.6666666666666666,\n",
       " 0.6666666666666666,\n",
       " 0.6666666666666666]"
      ]
     },
     "execution_count": 154,
     "metadata": {},
     "output_type": "execute_result"
    }
   ],
   "source": [
    "import matplotlib.pyplot as plt\n",
    "\n",
    "def recurrence_relation(n):\n",
    "    if n == 1:\n",
    "        return 1\n",
    "    else:\n",
    "        return 1 - recurrence_relation(n - 1) / 2\n",
    "\n",
    "n_values = list(range(100, 1100, 100))\n",
    "P_values = [recurrence_relation(n) for n in n_values]\n",
    "\n",
    "plt.plot(n_values, P_values, marker='o', linestyle='-')\n",
    "plt.xlabel('n')\n",
    "plt.ylabel('P(n)')\n",
    "plt.title('P(n) = 1 - P(n-1)/2')\n",
    "plt.grid(True)\n",
    "plt.show()\n",
    "\n",
    "P_values"
   ]
  },
  {
   "cell_type": "markdown",
   "id": "d6c79619-e7e6-415e-94a6-d542c375557a",
   "metadata": {},
   "source": [
    "# Changing the premise of the question to rolling a dice"
   ]
  },
  {
   "cell_type": "code",
   "execution_count": 156,
   "id": "fb7d3163-90bd-42ff-b718-937207ad6a87",
   "metadata": {},
   "outputs": [
    {
     "name": "stdout",
     "output_type": "stream",
     "text": [
      "\n",
      "Total Green Walks: 285775\n",
      "Total Red Walks: 714225\n"
     ]
    }
   ],
   "source": [
    "import random\n",
    "\n",
    "def throw_coin():\n",
    "    return random.randint(1, 6)\n",
    "\n",
    "def simulate_walk(steps):\n",
    "    numbers_landed_on = []\n",
    "    position = 1\n",
    "    for _ in range(steps):\n",
    "        step = throw_coin()\n",
    "        numbers_landed_on.append(position)\n",
    "        position += step\n",
    "    return numbers_landed_on\n",
    "\n",
    "def color_walk(numbers, target_number):\n",
    "    if target_number in numbers:\n",
    "        return '\\033[92m'\n",
    "    else:\n",
    "        return '\\033[91m'\n",
    "\n",
    "def repeat_simulation(total_walks, total_steps, target_number):\n",
    "    green_walks = 0\n",
    "    red_walks = 0\n",
    "    for i in range(total_walks):\n",
    "        numbers_landed_on = simulate_walk(total_steps)\n",
    "        color = color_walk(numbers_landed_on, target_number)\n",
    "        #print(f\"Walk {i+1}: {color}{numbers_landed_on}\\033[0m\")\n",
    "        if target_number in numbers_landed_on:\n",
    "            green_walks += 1\n",
    "        else:\n",
    "            red_walks += 1\n",
    "    return green_walks, red_walks\n",
    "\n",
    "total_walks = 1000000\n",
    "total_steps = 25\n",
    "target_number = 25\n",
    "\n",
    "green_count, red_count = repeat_simulation(total_walks, total_steps, target_number)\n",
    "print(f\"\\nTotal Green Walks: {green_count}\")\n",
    "print(f\"Total Red Walks: {red_count}\")"
   ]
  },
  {
   "cell_type": "markdown",
   "id": "27d5f54e-8718-41b6-9f2f-d57728ddbb4a",
   "metadata": {},
   "source": [
    "# Changing the premise of the question to have a biased coin"
   ]
  },
  {
   "cell_type": "code",
   "execution_count": 157,
   "id": "83a2f73e-ab9c-4c9c-9c21-cc7a66387e04",
   "metadata": {},
   "outputs": [
    {
     "name": "stdout",
     "output_type": "stream",
     "text": [
      "\n",
      "Total Green Walks: 800368\n",
      "Total Red Walks: 199632\n"
     ]
    }
   ],
   "source": [
    "import random\n",
    "\n",
    "def throw_coin():\n",
    "    rand_num = random.random()\n",
    "    if rand_num <= 0.75:\n",
    "        return 1\n",
    "    else:\n",
    "        return 2\n",
    "\n",
    "def simulate_walk(steps):\n",
    "    numbers_landed_on = []\n",
    "    position = 1\n",
    "    for _ in range(steps):\n",
    "        step = throw_coin()\n",
    "        numbers_landed_on.append(position)\n",
    "        position += step\n",
    "    return numbers_landed_on\n",
    "\n",
    "def color_walk(numbers, target_number):\n",
    "    if target_number in numbers:\n",
    "        return '\\033[92m'\n",
    "    else:\n",
    "        return '\\033[91m'\n",
    "\n",
    "def repeat_simulation(total_walks, total_steps, target_number):\n",
    "    green_walks = 0\n",
    "    red_walks = 0\n",
    "    for i in range(total_walks):\n",
    "        numbers_landed_on = simulate_walk(total_steps)\n",
    "        color = color_walk(numbers_landed_on, target_number)\n",
    "        #print(f\"Walk {i+1}: {color}{numbers_landed_on}\\033[0m\")\n",
    "        if target_number in numbers_landed_on:\n",
    "            green_walks += 1\n",
    "        else:\n",
    "            red_walks += 1\n",
    "    return green_walks, red_walks\n",
    "\n",
    "total_walks = 1000000\n",
    "total_steps = 25\n",
    "target_number = 25\n",
    "\n",
    "green_count, red_count = repeat_simulation(total_walks, total_steps, target_number)\n",
    "print(f\"\\nTotal Green Walks: {green_count}\")\n",
    "print(f\"Total Red Walks: {red_count}\")"
   ]
  },
  {
   "cell_type": "code",
   "execution_count": null,
   "id": "30c7f424-8a86-4282-83af-4da442a23c80",
   "metadata": {
    "tags": []
   },
   "outputs": [],
   "source": []
  }
 ],
 "metadata": {
  "kernelspec": {
   "display_name": "Python 3 (ipykernel)",
   "language": "python",
   "name": "python3"
  },
  "language_info": {
   "codemirror_mode": {
    "name": "ipython",
    "version": 3
   },
   "file_extension": ".py",
   "mimetype": "text/x-python",
   "name": "python",
   "nbconvert_exporter": "python",
   "pygments_lexer": "ipython3",
   "version": "3.9.7"
  }
 },
 "nbformat": 4,
 "nbformat_minor": 5
}
