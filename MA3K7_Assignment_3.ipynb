{
 "cells": [
  {
   "cell_type": "markdown",
   "id": "e55d360c-4ee4-4b38-b50c-f109e9453d64",
   "metadata": {
    "tags": []
   },
   "source": [
    "# Simulating the problem"
   ]
  },
  {
   "cell_type": "code",
   "execution_count": 21,
   "id": "650470e2-1c46-4ecd-88dc-de62060d44fa",
   "metadata": {},
   "outputs": [
    {
     "name": "stdout",
     "output_type": "stream",
     "text": [
      "The final piece of paper is: 1090\n",
      "The final piece of paper is: 602\n",
      "The final piece of paper is: 688\n",
      "The final piece of paper is: 244\n",
      "The final piece of paper is: 300\n"
     ]
    }
   ],
   "source": [
    "import numpy as np\n",
    "\n",
    "rng = np.random.default_rng()\n",
    "\n",
    "def final_piece():\n",
    "    hat = list(range(1, 2025))\n",
    "\n",
    "    while len(hat) > 1:\n",
    "        piece1 = rng.choice(hat)\n",
    "        hat.remove(piece1)\n",
    "        piece2 = rng.choice(hat)\n",
    "        hat.remove(piece2)\n",
    "\n",
    "        difference = abs(piece1 - piece2)\n",
    "        hat.append(difference)\n",
    "\n",
    "    return hat[0]\n",
    "\n",
    "samples = 5\n",
    "\n",
    "for i in range(samples):\n",
    "    final_piece_number = final_piece()\n",
    "    print(\"The final piece of paper is:\", final_piece_number)"
   ]
  },
  {
   "cell_type": "markdown",
   "id": "ff030c13-4b28-4343-bb9f-cb0c85e8e21c",
   "metadata": {},
   "source": [
    "# Plotting a histogram for the distribution of final pieces in a hat with n numbers in it"
   ]
  },
  {
   "cell_type": "code",
   "execution_count": 22,
   "id": "c9a64378-8c45-41d2-9013-9fc2be1ecbe9",
   "metadata": {},
   "outputs": [
    {
     "data": {
      "image/png": "[encoded data removed]",
      "text/plain": [
       "<Figure size 432x288 with 1 Axes>"
      ]
     },
     "metadata": {
      "needs_background": "light"
     },
     "output_type": "display_data"
    },
    {
     "data": {
      "text/plain": [
       "array([0.4384, 0.    , 0.4465, 0.    , 0.1151])"
      ]
     },
     "execution_count": 22,
     "metadata": {},
     "output_type": "execute_result"
    }
   ],
   "source": [
    "import numpy as np\n",
    "import matplotlib.pyplot as plt\n",
    "\n",
    "rng = np.random.default_rng()\n",
    "\n",
    "HAT = 4\n",
    "\n",
    "def final_piece():\n",
    "    hat = list(range(1, HAT+1))\n",
    "\n",
    "    while len(hat) > 1:\n",
    "        piece1 = rng.choice(hat)\n",
    "        hat.remove(piece1)\n",
    "        piece2 = rng.choice(hat)\n",
    "        hat.remove(piece2)\n",
    "\n",
    "        difference = abs(piece1 - piece2)\n",
    "        hat.append(difference)\n",
    "\n",
    "    return hat[0]\n",
    "    \n",
    "samples = 10000\n",
    "\n",
    "final_pieces = [final_piece() for _ in range(samples)]\n",
    "\n",
    "bins = np.arange(0, HAT+2)-0.5\n",
    "\n",
    "fig, ax = plt.subplots(1,1)\n",
    "\n",
    "Data, _ , _ = ax.hist(final_pieces, bins, density=True, rwidth=0.8, color='skyblue')\n",
    "ax.set_xlim(-1, HAT+1)\n",
    "ax.set_xticks(np.arange(0, HAT+1))\n",
    "ax.set_xlabel('Final Piece Number')\n",
    "ax.set_ylabel('Frequency')\n",
    "plt.grid('on')\n",
    "# even_ticks = range(0, HAT+1, 200)\n",
    "# plt.xticks(even_ticks)\n",
    "plt.tight_layout()\n",
    "plt.show()\n",
    "\n",
    "Data"
   ]
  },
  {
   "cell_type": "markdown",
   "id": "6571e7d9-ba3a-434a-8e92-d95fea8c2a32",
   "metadata": {},
   "source": [
    "# Extending the problem"
   ]
  },
  {
   "cell_type": "code",
   "execution_count": 23,
   "id": "1b568455-30ad-4e45-b181-6b5a6170e86c",
   "metadata": {},
   "outputs": [
    {
     "data": {
      "image/png": "[encoded data removed]",
      "text/plain": [
       "<Figure size 432x288 with 1 Axes>"
      ]
     },
     "metadata": {
      "needs_background": "light"
     },
     "output_type": "display_data"
    },
    {
     "data": {
      "text/plain": [
       "array([0.    , 0.    , 0.1219, 0.    , 0.    , 0.    , 0.1121, 0.    ,\n",
       "       0.    , 0.    , 0.1025, 0.    , 0.    , 0.    , 0.0933, 0.    ,\n",
       "       0.    , 0.    , 0.0857, 0.    , 0.    , 0.    , 0.0771, 0.    ,\n",
       "       0.    , 0.    , 0.0683, 0.    , 0.    , 0.    , 0.0556, 0.    ,\n",
       "       0.    , 0.    , 0.0523, 0.    , 0.    , 0.    , 0.0443, 0.    ,\n",
       "       0.    , 0.    , 0.038 , 0.    , 0.    , 0.    , 0.03  , 0.    ,\n",
       "       0.    , 0.    , 0.0262, 0.    , 0.    , 0.    , 0.0217, 0.    ,\n",
       "       0.    , 0.    , 0.0193, 0.    , 0.    , 0.    , 0.0161, 0.    ,\n",
       "       0.    , 0.    , 0.0102, 0.    , 0.    , 0.    , 0.0078, 0.    ,\n",
       "       0.    , 0.    , 0.0062, 0.    , 0.    , 0.    , 0.0038, 0.    ,\n",
       "       0.    , 0.    , 0.0032, 0.    , 0.    , 0.    , 0.0023, 0.    ,\n",
       "       0.    , 0.    , 0.0014, 0.    , 0.    , 0.    , 0.0004, 0.    ,\n",
       "       0.    , 0.    , 0.0003, 0.    , 0.    ])"
      ]
     },
     "execution_count": 23,
     "metadata": {},
     "output_type": "execute_result"
    }
   ],
   "source": [
    "import numpy as np\n",
    "import matplotlib.pyplot as plt\n",
    "\n",
    "rng = np.random.default_rng()\n",
    "\n",
    "HAT = 100\n",
    "\n",
    "def final_piece():\n",
    "    hat = list(range(2, HAT+1, 2))\n",
    "\n",
    "    while len(hat) > 1:\n",
    "        piece1 = rng.choice(hat)\n",
    "        hat.remove(piece1)\n",
    "        piece2 = rng.choice(hat)\n",
    "        hat.remove(piece2)\n",
    "\n",
    "        difference = abs(piece1 - piece2)\n",
    "        hat.append(difference)\n",
    "\n",
    "    return hat[0]\n",
    "    \n",
    "samples = 10000\n",
    "\n",
    "final_pieces = [final_piece() for _ in range(samples)]\n",
    "\n",
    "bins = np.arange(0, HAT+2)-0.5\n",
    "\n",
    "fig, ax = plt.subplots(1,1)\n",
    "\n",
    "Data, _ , _ = ax.hist(final_pieces, bins, density=True, rwidth=0.8, color='skyblue')\n",
    "ax.set_xlim(-1, HAT+1)\n",
    "ax.set_xticks(np.arange(0, HAT+1))\n",
    "ax.set_xlabel('Final Piece Number')\n",
    "ax.set_ylabel('Frequency')\n",
    "plt.grid('on')\n",
    "even_ticks = range(0, HAT+1, 10)\n",
    "plt.xticks(even_ticks)\n",
    "plt.tight_layout()\n",
    "plt.show()\n",
    "\n",
    "Data"
   ]
  },
  {
   "cell_type": "code",
   "execution_count": null,
   "id": "44e612ea-9625-40a2-8afb-6d7cbc1aef3f",
   "metadata": {},
   "outputs": [],
   "source": []
  }
 ],
 "metadata": {
  "kernelspec": {
   "display_name": "Python 3 (ipykernel)",
   "language": "python",
   "name": "python3"
  },
  "language_info": {
   "codemirror_mode": {
    "name": "ipython",
    "version": 3
   },
   "file_extension": ".py",
   "mimetype": "text/x-python",
   "name": "python",
   "nbconvert_exporter": "python",
   "pygments_lexer": "ipython3",
   "version": "3.9.7"
  }
 },
 "nbformat": 4,
 "nbformat_minor": 5
}
