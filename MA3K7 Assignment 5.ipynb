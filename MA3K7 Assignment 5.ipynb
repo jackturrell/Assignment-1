{
 "cells": [
  {
   "cell_type": "markdown",
   "id": "6f760948-7697-4dd9-b54c-555438084b87",
   "metadata": {},
   "source": [
    "# Simulating the problem"
   ]
  },
  {
   "cell_type": "code",
   "execution_count": 40,
   "id": "eeb6e979-a02a-4dac-bf88-803614bf2023",
   "metadata": {},
   "outputs": [
    {
     "name": "stdin",
     "output_type": "stream",
     "text": [
      "Enter the value of n:  5\n"
     ]
    },
    {
     "name": "stdout",
     "output_type": "stream",
     "text": [
      "Spiral for n = 5 :\n",
      "\n",
      "[[17 16 15 14 13]\n",
      " [18  5  4  3 12]\n",
      " [19  6  1  2 11]\n",
      " [20  7  8  9 10]\n",
      " [21 22 23 24 25]]\n"
     ]
    }
   ],
   "source": [
    "import numpy as np\n",
    "\n",
    "def spiral(n):\n",
    "    matrix = np.zeros((n, n), dtype=int)\n",
    "    row, col = n // 2, n // 2\n",
    "    num = 1\n",
    "    step = 1\n",
    "    \n",
    "    matrix[row, col] = num\n",
    "\n",
    "    while step < n:\n",
    "        for _ in range(step):\n",
    "            col += 1\n",
    "            num += 1\n",
    "            matrix[row, col] = num\n",
    "\n",
    "        for _ in range(step):\n",
    "            row -= 1\n",
    "            num += 1\n",
    "            matrix[row, col] = num\n",
    "\n",
    "        step += 1\n",
    "\n",
    "        for _ in range(step):\n",
    "            col -= 1\n",
    "            num += 1\n",
    "            matrix[row, col] = num\n",
    "\n",
    "        for _ in range(step):\n",
    "            row += 1\n",
    "            num += 1\n",
    "            matrix[row, col] = num\n",
    "\n",
    "        step += 1\n",
    "\n",
    "    for _ in range(step - 1):\n",
    "        col += 1\n",
    "        num += 1\n",
    "        matrix[row, col] = num\n",
    "\n",
    "    return matrix\n",
    "\n",
    "def main():\n",
    "    n = int(input(\"Enter the value of n: \"))\n",
    "    spiral_matrix = spiral(n)\n",
    "    print(\"Spiral for n =\", n, \":\")\n",
    "    print()\n",
    "    print(spiral_matrix)\n",
    "\n",
    "if __name__ == \"__main__\":\n",
    "    main()"
   ]
  },
  {
   "cell_type": "markdown",
   "id": "c1808554-3894-4d7e-9f12-81695f4362a6",
   "metadata": {},
   "source": [
    "# Highlighting prime nu"
   ]
  },
  {
   "cell_type": "code",
   "execution_count": 37,
   "id": "cfd297e7-df60-4446-a97a-8179b06c597e",
   "metadata": {},
   "outputs": [
    {
     "name": "stdin",
     "output_type": "stream",
     "text": [
      "Enter the value of n:  101\n"
     ]
    },
    {
     "data": {
      "image/png": "[encoded data removed]",
      "text/plain": [
       "<Figure size 432x288 with 1 Axes>"
      ]
     },
     "metadata": {
      "needs_background": "light"
     },
     "output_type": "display_data"
    }
   ],
   "source": [
    "import numpy as np\n",
    "import matplotlib.pyplot as plt\n",
    "\n",
    "def is_prime(num):\n",
    "    if num < 2:\n",
    "        return False\n",
    "    for i in range(2, int(num**0.5) + 1):\n",
    "        if num % i == 0:\n",
    "            return False\n",
    "    return True\n",
    "\n",
    "def spiral(n):\n",
    "    matrix = np.zeros((n, n), dtype=int)\n",
    "    row, col = n // 2, n // 2\n",
    "    num = 1\n",
    "    step = 1\n",
    "    \n",
    "    matrix[row, col] = num\n",
    "\n",
    "    while step < n:\n",
    "        # Move to the right\n",
    "        for _ in range(step):\n",
    "            col += 1\n",
    "            num += 1\n",
    "            if is_prime(num):\n",
    "                matrix[row, col] = num\n",
    "\n",
    "        # Move up\n",
    "        for _ in range(step):\n",
    "            row -= 1\n",
    "            num += 1\n",
    "            if is_prime(num):\n",
    "                matrix[row, col] = num\n",
    "\n",
    "        # Increase step size\n",
    "        step += 1\n",
    "\n",
    "        # Move to the left\n",
    "        for _ in range(step):\n",
    "            col -= 1\n",
    "            num += 1\n",
    "            if is_prime(num):\n",
    "                matrix[row, col] = num\n",
    "\n",
    "        # Move down\n",
    "        for _ in range(step):\n",
    "            row += 1\n",
    "            num += 1\n",
    "            if is_prime(num):\n",
    "                matrix[row, col] = num\n",
    "\n",
    "        # Increase step size\n",
    "        step += 1\n",
    "\n",
    "    # Fill the last row\n",
    "    for _ in range(step - 1):\n",
    "        col += 1\n",
    "        num += 1\n",
    "        if is_prime(num):\n",
    "            matrix[row, col] = num\n",
    "\n",
    "    return matrix\n",
    "\n",
    "def main():\n",
    "    n = int(input(\"Enter the value of n: \"))\n",
    "    spiral_matrix = spiral(n)\n",
    "    \n",
    "    plt.imshow(np.zeros_like(spiral_matrix), cmap='gray')  # Set the entire matrix to the same color\n",
    "    primes = np.where(np.vectorize(is_prime)(spiral_matrix))\n",
    "    plt.scatter(primes[1], primes[0], c='red')  # Highlight prime numbers in red\n",
    "    plt.show()\n",
    "\n",
    "if __name__ == \"__main__\":\n",
    "    main()\n"
   ]
  },
  {
   "cell_type": "code",
   "execution_count": null,
   "id": "4d47603b-3ab9-41df-94dd-67a5d07f4af5",
   "metadata": {},
   "outputs": [],
   "source": []
  },
  {
   "cell_type": "code",
   "execution_count": 39,
   "id": "0b49aad7-a776-435a-9f22-d8997b795123",
   "metadata": {},
   "outputs": [
    {
     "name": "stdin",
     "output_type": "stream",
     "text": [
      "Enter the value of n:  101\n"
     ]
    },
    {
     "data": {
      "image/png": "[encoded data removed]",
      "text/plain": [
       "<Figure size 432x288 with 1 Axes>"
      ]
     },
     "metadata": {
      "needs_background": "light"
     },
     "output_type": "display_data"
    }
   ],
   "source": [
    "import numpy as np\n",
    "import matplotlib.pyplot as plt\n",
    "\n",
    "def is_prime(num):\n",
    "    if num < 2:\n",
    "        return False\n",
    "    for i in range(2, int(num**0.5) + 1):\n",
    "        if num % i == 0:\n",
    "            return False\n",
    "    return True\n",
    "\n",
    "def spiral(n):\n",
    "    matrix = np.zeros((n, n), dtype=int)\n",
    "    row, col = n // 2, n // 2\n",
    "    num = 1\n",
    "    step = 1\n",
    "    \n",
    "    matrix[row, col] = num\n",
    "\n",
    "    while step < n:\n",
    "        # Move to the right\n",
    "        for _ in range(step):\n",
    "            col += 1\n",
    "            num += 1\n",
    "            if is_prime(num):\n",
    "                matrix[row, col] = num\n",
    "\n",
    "        # Move up\n",
    "        for _ in range(step):\n",
    "            row -= 1\n",
    "            num += 1\n",
    "            if is_prime(num):\n",
    "                matrix[row, col] = num\n",
    "\n",
    "        # Increase step size\n",
    "        step += 1\n",
    "\n",
    "        # Move to the left\n",
    "        for _ in range(step):\n",
    "            col -= 1\n",
    "            num += 1\n",
    "            if is_prime(num):\n",
    "                matrix[row, col] = num\n",
    "\n",
    "        # Move down\n",
    "        for _ in range(step):\n",
    "            row += 1\n",
    "            num += 1\n",
    "            if is_prime(num):\n",
    "                matrix[row, col] = num\n",
    "\n",
    "        # Increase step size\n",
    "        step += 1\n",
    "\n",
    "    # Fill the last row\n",
    "    for _ in range(step - 1):\n",
    "        col += 1\n",
    "        num += 1\n",
    "        if is_prime(num):\n",
    "            matrix[row, col] = num\n",
    "\n",
    "    return matrix\n",
    "\n",
    "def main():\n",
    "    n = int(input(\"Enter the value of n: \"))\n",
    "    spiral_matrix = spiral(n)\n",
    "    \n",
    "    plt.imshow(np.zeros_like(spiral_matrix), cmap='gray')  # Set the entire matrix to the same color\n",
    "    primes = np.where(np.vectorize(is_prime)(spiral_matrix))\n",
    "    plt.scatter(primes[1], primes[0], c='red', s=10)  # Highlight prime numbers in red with smaller dots\n",
    "    plt.show()\n",
    "\n",
    "if __name__ == \"__main__\":\n",
    "    main()"
   ]
  },
  {
   "cell_type": "code",
   "execution_count": null,
   "id": "70291123-b811-45db-af73-50e0f416e3f5",
   "metadata": {},
   "outputs": [],
   "source": []
  },
  {
   "cell_type": "code",
   "execution_count": null,
   "id": "94fbd2cc-4cb2-4304-931a-5096836adc6d",
   "metadata": {},
   "outputs": [],
   "source": []
  }
 ],
 "metadata": {
  "kernelspec": {
   "display_name": "Python 3 (ipykernel)",
   "language": "python",
   "name": "python3"
  },
  "language_info": {
   "codemirror_mode": {
    "name": "ipython",
    "version": 3
   },
   "file_extension": ".py",
   "mimetype": "text/x-python",
   "name": "python",
   "nbconvert_exporter": "python",
   "pygments_lexer": "ipython3",
   "version": "3.9.7"
  }
 },
 "nbformat": 4,
 "nbformat_minor": 5
}
